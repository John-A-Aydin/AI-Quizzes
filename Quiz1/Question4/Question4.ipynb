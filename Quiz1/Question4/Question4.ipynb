{
 "cells": [
  {
   "cell_type": "markdown",
   "id": "b2ce9d66-e62d-485a-8c12-cf9e17a0721c",
   "metadata": {},
   "source": [
    "# Question 4"
   ]
  },
  {
   "cell_type": "code",
   "execution_count": null,
   "id": "ee8ead39-e509-420b-bca6-5c77852a3830",
   "metadata": {},
   "outputs": [],
   "source": [
    "import pandas as pd\n",
    "import matplotlib.pyplot as plt\n",
    "\n",
    "df = pd.read_csv('data/DriverTraining-ForInClassLearning-2024.csv')\n",
    "df\n",
    "#print(df.to_string())"
   ]
  },
  {
   "cell_type": "markdown",
   "id": "ce7b196b-54de-4ad9-ba8e-61549402fd79",
   "metadata": {},
   "source": [
    "# a)\n",
    "\n",
    "## 1."
   ]
  },
  {
   "cell_type": "code",
   "execution_count": null,
   "id": "99e0c232-c710-4021-bca3-7e5303167969",
   "metadata": {},
   "outputs": [],
   "source": [
    "print(\"Percent of data missing:\")\n",
    "100*(df.isnull().sum())/len(df)"
   ]
  },
  {
   "cell_type": "markdown",
   "id": "825b72e8-b3b9-4b95-bf13-a64145a112cb",
   "metadata": {},
   "source": [
    "## 2.\n",
    "\n",
    "Most of the issues are with missing data, but some area codes are extended, and some cities have different capitalization or punctuation.\n",
    "To solve the inconsistencies with the cities we can make all cities lower case and remove punctuation.\n",
    "For extended zip codes we can trim anything coming after a dash.\n",
    "For missing values, the row can be removed if we are looking at that value specifically.\n",
    "\n",
    "One minor issue is that the dates have two digit years which doesnt really play well with the library I'm using so I fixed that below.\n",
    "\n",
    "My data cleaning strategy will mostly involve ignoring bad data."
   ]
  },
  {
   "cell_type": "code",
   "execution_count": null,
   "id": "0d913ad6-8f7f-40db-8488-e0788ef96403",
   "metadata": {},
   "outputs": [],
   "source": [
    "from datetime import datetime\n",
    "# 4 digit years\n",
    "def formatDate(date):\n",
    "    if (not isinstance(date, str)):\n",
    "        return\n",
    "    date_split = date.split('/')\n",
    "    # Y2K 0_0\n",
    "    prefix = '20'\n",
    "    # Should check current year instead of hard coding 24\n",
    "    if (int(date_split[2]) > 24):\n",
    "        prefix = '19'\n",
    "    return date[:len(date) - 2] + prefix + date[len(date) - 2:]\n",
    "\n",
    "# Applying formatting to all rows\n",
    "for _, row in df.iterrows():\n",
    "    row['class_date'] = formatDate(row['class_date'])        \n",
    "    row['dob'] = formatDate(row['dob']) \n",
    "df"
   ]
  },
  {
   "cell_type": "markdown",
   "id": "3a08e2ff-9536-4c17-894d-7993b2c224a8",
   "metadata": {},
   "source": [
    "# b)\n",
    "\n",
    "## 1."
   ]
  },
  {
   "cell_type": "code",
   "execution_count": null,
   "id": "088ad4b0-b5b4-4698-8d4f-d254b97d53f2",
   "metadata": {},
   "outputs": [],
   "source": [
    "from dateutil.parser import parse\n",
    "\n",
    "# Ignore all null genders\n",
    "mfDf = df[~df['gender'].isnull()]\n",
    "mPercent = 100*len(mfDf[mfDf['gender'] == 'Male'])/len(mfDf)\n",
    "fPercent = 100*len(mfDf[mfDf['gender'] == 'Female'])/len(mfDf)\n",
    "print('All Data:')\n",
    "print('Percent male:   ', mPercent)\n",
    "print('Percent female: ', fPercent)\n",
    "# Getting rid of pandas warning\n",
    "pd.options.mode.chained_assignment = None\n",
    "mfDf[\"class_date\"] = mfDf[\"class_date\"].apply(lambda x: parse(x))\n",
    "# Group by month\n",
    "g = mfDf.groupby(pd.Grouper(key='class_date', freq='ME'))\n",
    "dfs = [group for _, group in g]\n",
    "# Don't feel like doing this the right way\n",
    "month = 1\n",
    "dfsByMonth = [0] * 12\n",
    "for frame in dfs:\n",
    "    if (month == 12):\n",
    "        month = 0\n",
    "    # dfsByMonth hasn't seen this month yet\n",
    "    if (isinstance(dfsByMonth[month], int)):\n",
    "        dfsByMonth[month] = frame\n",
    "    else:\n",
    "        dfsByMonth[month] = pd.concat([dfsByMonth[month], frame])\n",
    "    month += 1\n",
    "\n",
    "months = ['Jan', 'Feb', 'Mar', 'Apr', 'May', 'Jun', 'Jul', 'Aug', 'Sept', 'Oct', 'Nov', 'Dec']\n",
    "for idx, monthDf in enumerate(dfsByMonth):\n",
    "    mPerc = 100*len(monthDf[monthDf['gender'] == 'Male'])/len(monthDf)\n",
    "    fPerc = 100*len(monthDf[monthDf['gender'] == 'Female'])/len(monthDf)\n",
    "    print('')\n",
    "    print(months[idx], ':')\n",
    "    print('Percent male:   ', mPerc)\n",
    "    print('Percent female: ', fPerc)"
   ]
  },
  {
   "cell_type": "markdown",
   "id": "76cc2d2b-abf4-40e7-af63-babc510d7386",
   "metadata": {},
   "source": [
    "I don't see an overall pattern, but there seem to be much more males in Oct and Dec"
   ]
  },
  {
   "cell_type": "markdown",
   "id": "277744ad-e34b-4ef0-af85-ad4fd40c54a9",
   "metadata": {},
   "source": [
    "## 2."
   ]
  },
  {
   "cell_type": "code",
   "execution_count": null,
   "id": "2ae9bb72-5e80-4ea7-8b9d-fd6d4ee12cf3",
   "metadata": {},
   "outputs": [],
   "source": [
    "# Ignore all null DOB\n",
    "mfDf = mfDf[~mfDf['dob'].isnull()]\n",
    "mfDf[\"dob\"] = mfDf[\"dob\"].apply(lambda x: parse(x))\n",
    "mfDf[\"age-days\"] = mfDf[\"class_date\"] - mfDf[\"dob\"]\n",
    "totalAvg = mfDf[\"age-days\"].mean()\n",
    "genderedMeans = mfDf.groupby('gender')[\"age-days\"].mean()\n",
    "print(\"Total   \", totalAvg)\n",
    "print(genderedMeans)"
   ]
  },
  {
   "cell_type": "markdown",
   "id": "1087f052-9cc4-42d7-a708-0da5678ec88d",
   "metadata": {},
   "source": [
    "One major assumption I made is that missing dob isn't due to the participant being younger or older than the average. I'm assuming the missing DOBs are uniformly random. I also chose to use days rather than years based on the assumption that all of the participants would be around 16 years old and years wouldn't show the difference."
   ]
  },
  {
   "cell_type": "markdown",
   "id": "eabb161e-28bc-4df2-b8d3-cdd31e168816",
   "metadata": {},
   "source": [
    "## 3."
   ]
  },
  {
   "cell_type": "code",
   "execution_count": null,
   "id": "686bc6a9-06b0-4d81-b5e5-598d9d477c8e",
   "metadata": {},
   "outputs": [],
   "source": [
    "# Drop all rows without city data (Decided to just make them 'not given')\n",
    "# cityDf = df[df['city'].notna()]\n",
    "def formatCity(city):\n",
    "    newCity = city.lower()\n",
    "    newCity = ''.join(filter(str.isalnum, newCity))\n",
    "    # Mount Pleasant has a very high amount of misspelling\n",
    "    mtPleasant = {'mtpleasent', 'mtpleasant', 'mountpleasent'}\n",
    "    if (newCity in mtPleasant):\n",
    "        newCity = \"mountpleasant\"\n",
    "    return newCity\n",
    "\n",
    "# Didnt account for different states, but most of this is from SC\n",
    "for _, row in df.iterrows():\n",
    "    if (not isinstance(row['city'], str)):\n",
    "        row['city'] = 'not given'\n",
    "    else:\n",
    "        row['city'] = formatCity(row['city'])\n",
    "\n",
    "# A bunch of random spelling so I'm just dropping anything under 0.04%\n",
    "# This removes places like John's Island, but since the majority are missplelligns im okay with it\n",
    "counts = df['city'].value_counts(normalize=True).mul(100)\n",
    "idx = 0\n",
    "for _, val in counts.items():\n",
    "    if (val <= 0.04):\n",
    "        break\n",
    "    idx += 1\n",
    "counts = counts.iloc[:idx]\n",
    "counts.plot(kind = 'bar', ylabel='Percent of total', figsize=(18,5))\n",
    "# Idealy I would plug in the city names to some fuzzy search algorithm to match them with a list of cities and towns"
   ]
  }
 ],
 "metadata": {
  "kernelspec": {
   "display_name": "Python 3 (ipykernel)",
   "language": "python",
   "name": "python3"
  },
  "language_info": {
   "codemirror_mode": {
    "name": "ipython",
    "version": 3
   },
   "file_extension": ".py",
   "mimetype": "text/x-python",
   "name": "python",
   "nbconvert_exporter": "python",
   "pygments_lexer": "ipython3",
   "version": "3.10.0"
  }
 },
 "nbformat": 4,
 "nbformat_minor": 5
}
