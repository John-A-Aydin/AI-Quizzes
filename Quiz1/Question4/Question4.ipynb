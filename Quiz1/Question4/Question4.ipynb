{
 "cells": [
  {
   "cell_type": "code",
   "execution_count": 1,
   "id": "ee8ead39-e509-420b-bca6-5c77852a3830",
   "metadata": {},
   "outputs": [
    {
     "data": {
      "text/html": [
       "<div>\n",
       "<style scoped>\n",
       "    .dataframe tbody tr th:only-of-type {\n",
       "        vertical-align: middle;\n",
       "    }\n",
       "\n",
       "    .dataframe tbody tr th {\n",
       "        vertical-align: top;\n",
       "    }\n",
       "\n",
       "    .dataframe thead th {\n",
       "        text-align: right;\n",
       "    }\n",
       "</style>\n",
       "<table border=\"1\" class=\"dataframe\">\n",
       "  <thead>\n",
       "    <tr style=\"text-align: right;\">\n",
       "      <th></th>\n",
       "      <th>class_date</th>\n",
       "      <th>city</th>\n",
       "      <th>state</th>\n",
       "      <th>zip_code</th>\n",
       "      <th>dob</th>\n",
       "      <th>gender</th>\n",
       "    </tr>\n",
       "  </thead>\n",
       "  <tbody>\n",
       "    <tr>\n",
       "      <th>0</th>\n",
       "      <td>8/17/24</td>\n",
       "      <td>Richburg</td>\n",
       "      <td>South Carolina</td>\n",
       "      <td>29729</td>\n",
       "      <td>11/30/07</td>\n",
       "      <td>Male</td>\n",
       "    </tr>\n",
       "    <tr>\n",
       "      <th>1</th>\n",
       "      <td>8/10/24</td>\n",
       "      <td>Bluffton</td>\n",
       "      <td>South Carolina</td>\n",
       "      <td>29910-7957</td>\n",
       "      <td>10/16/07</td>\n",
       "      <td>Male</td>\n",
       "    </tr>\n",
       "    <tr>\n",
       "      <th>2</th>\n",
       "      <td>8/14/24</td>\n",
       "      <td>Hampton</td>\n",
       "      <td>South Carolina</td>\n",
       "      <td>29924</td>\n",
       "      <td>7/3/08</td>\n",
       "      <td>Female</td>\n",
       "    </tr>\n",
       "    <tr>\n",
       "      <th>3</th>\n",
       "      <td>8/9/24</td>\n",
       "      <td>Columbia</td>\n",
       "      <td>South Carolina</td>\n",
       "      <td>29210</td>\n",
       "      <td>10/10/06</td>\n",
       "      <td>Female</td>\n",
       "    </tr>\n",
       "    <tr>\n",
       "      <th>4</th>\n",
       "      <td>8/17/24</td>\n",
       "      <td>Irmo</td>\n",
       "      <td>South Carolina</td>\n",
       "      <td>29063</td>\n",
       "      <td>12/23/06</td>\n",
       "      <td>Female</td>\n",
       "    </tr>\n",
       "    <tr>\n",
       "      <th>...</th>\n",
       "      <td>...</td>\n",
       "      <td>...</td>\n",
       "      <td>...</td>\n",
       "      <td>...</td>\n",
       "      <td>...</td>\n",
       "      <td>...</td>\n",
       "    </tr>\n",
       "    <tr>\n",
       "      <th>16895</th>\n",
       "      <td>2/25/23</td>\n",
       "      <td>Chesnee</td>\n",
       "      <td>South Carolina</td>\n",
       "      <td>29323</td>\n",
       "      <td>11/16/05</td>\n",
       "      <td>Female</td>\n",
       "    </tr>\n",
       "    <tr>\n",
       "      <th>16896</th>\n",
       "      <td>2/4/23</td>\n",
       "      <td>Greenville</td>\n",
       "      <td>South Carolina</td>\n",
       "      <td>29607</td>\n",
       "      <td>5/22/07</td>\n",
       "      <td>Male</td>\n",
       "    </tr>\n",
       "    <tr>\n",
       "      <th>16897</th>\n",
       "      <td>2/4/23</td>\n",
       "      <td>Greenwood</td>\n",
       "      <td>South Carolina</td>\n",
       "      <td>29649</td>\n",
       "      <td>7/15/06</td>\n",
       "      <td>Female</td>\n",
       "    </tr>\n",
       "    <tr>\n",
       "      <th>16898</th>\n",
       "      <td>2/8/23</td>\n",
       "      <td>Boiling Springs</td>\n",
       "      <td>South Carolina</td>\n",
       "      <td>29316</td>\n",
       "      <td>2/17/06</td>\n",
       "      <td>Male</td>\n",
       "    </tr>\n",
       "    <tr>\n",
       "      <th>16899</th>\n",
       "      <td>2/18/23</td>\n",
       "      <td>Lake Wylie</td>\n",
       "      <td>South Carolina</td>\n",
       "      <td>29710</td>\n",
       "      <td>1/30/07</td>\n",
       "      <td>Male</td>\n",
       "    </tr>\n",
       "  </tbody>\n",
       "</table>\n",
       "<p>16900 rows × 6 columns</p>\n",
       "</div>"
      ],
      "text/plain": [
       "      class_date             city           state    zip_code       dob  \\\n",
       "0        8/17/24         Richburg  South Carolina       29729  11/30/07   \n",
       "1        8/10/24         Bluffton  South Carolina  29910-7957  10/16/07   \n",
       "2        8/14/24          Hampton  South Carolina       29924    7/3/08   \n",
       "3         8/9/24         Columbia  South Carolina       29210  10/10/06   \n",
       "4        8/17/24             Irmo  South Carolina       29063  12/23/06   \n",
       "...          ...              ...             ...         ...       ...   \n",
       "16895    2/25/23          Chesnee  South Carolina       29323  11/16/05   \n",
       "16896     2/4/23       Greenville  South Carolina       29607   5/22/07   \n",
       "16897     2/4/23        Greenwood  South Carolina       29649   7/15/06   \n",
       "16898     2/8/23  Boiling Springs  South Carolina       29316   2/17/06   \n",
       "16899    2/18/23       Lake Wylie  South Carolina       29710   1/30/07   \n",
       "\n",
       "       gender  \n",
       "0        Male  \n",
       "1        Male  \n",
       "2      Female  \n",
       "3      Female  \n",
       "4      Female  \n",
       "...       ...  \n",
       "16895  Female  \n",
       "16896    Male  \n",
       "16897  Female  \n",
       "16898    Male  \n",
       "16899    Male  \n",
       "\n",
       "[16900 rows x 6 columns]"
      ]
     },
     "execution_count": 1,
     "metadata": {},
     "output_type": "execute_result"
    }
   ],
   "source": [
    "import pandas as pd\n",
    "\n",
    "df = pd.read_csv('data/DriverTraining-ForInClassLearning-2024.csv')\n",
    "df\n",
    "# print(df.to_string())"
   ]
  },
  {
   "cell_type": "markdown",
   "id": "ce7b196b-54de-4ad9-ba8e-61549402fd79",
   "metadata": {},
   "source": [
    "# a)\n",
    "\n",
    "## 1."
   ]
  },
  {
   "cell_type": "code",
   "execution_count": 2,
   "id": "99e0c232-c710-4021-bca3-7e5303167969",
   "metadata": {},
   "outputs": [
    {
     "data": {
      "text/plain": [
       "class_date    0.000000\n",
       "city          0.035503\n",
       "state         0.035503\n",
       "zip_code      0.035503\n",
       "dob           0.786982\n",
       "gender        1.337278\n",
       "dtype: float64"
      ]
     },
     "execution_count": 2,
     "metadata": {},
     "output_type": "execute_result"
    }
   ],
   "source": [
    "100*(df.isnull().sum())/len(df)"
   ]
  },
  {
   "cell_type": "markdown",
   "id": "825b72e8-b3b9-4b95-bf13-a64145a112cb",
   "metadata": {},
   "source": [
    "## 2.\n",
    "\n",
    "Most of the issues are with missing data, but some area codes are extended, and some cities have different capitalization or punctuation.\n",
    "To solve the inconsistencies witht the cities we can make all cities lower case and remove punctuation.\n",
    "For extended zip codes we can trim anything coming after a dash.\n",
    "For missing values, the row can be removed if we are looking at that value specifically.\n",
    "\n",
    "One minor issue is that the dates have two digit years which doesnt really play well with the library I'm using so I fixed that below."
   ]
  },
  {
   "cell_type": "code",
   "execution_count": 3,
   "id": "0d913ad6-8f7f-40db-8488-e0788ef96403",
   "metadata": {},
   "outputs": [],
   "source": [
    "from datetime import datetime\n",
    "def formatDate(date):\n",
    "    if (not isinstance(date, str)):\n",
    "        return\n",
    "    date_split = date.split('/')\n",
    "    # Y2K 0_0\n",
    "    prefix = '20'\n",
    "    if (int(date_split[2]) > 24):\n",
    "        prefix = '19'\n",
    "    return date[:len(date) - 2] + prefix + date[len(date) - 2:]\n",
    "\n",
    "for _, row in df.iterrows():\n",
    "    row['class_date'] = formatDate(row['class_date'])        \n",
    "    row['dob'] = formatDate(row['dob'])                                   "
   ]
  },
  {
   "cell_type": "markdown",
   "id": "3a08e2ff-9536-4c17-894d-7993b2c224a8",
   "metadata": {},
   "source": [
    "# b)\n",
    "\n",
    "## 1."
   ]
  },
  {
   "cell_type": "code",
   "execution_count": 4,
   "id": "088ad4b0-b5b4-4698-8d4f-d254b97d53f2",
   "metadata": {},
   "outputs": [
    {
     "name": "stdout",
     "output_type": "stream",
     "text": [
      "All Data:\n",
      "Percent male:    50.875614729519015\n",
      "Percent female:  49.124385270480985\n",
      "\n",
      "Jan :\n",
      "Percent male:    49.741602067183464\n",
      "Percent female:  50.258397932816536\n",
      "\n",
      "Feb :\n",
      "Percent male:    52.22222222222222\n",
      "Percent female:  47.77777777777778\n",
      "\n",
      "Mar :\n",
      "Percent male:    51.00603621730382\n",
      "Percent female:  48.99396378269618\n",
      "\n",
      "Apr :\n",
      "Percent male:    51.68539325842696\n",
      "Percent female:  48.31460674157304\n",
      "\n",
      "May :\n",
      "Percent male:    50.12165450121655\n",
      "Percent female:  49.87834549878345\n",
      "\n",
      "Jun :\n",
      "Percent male:    47.79361846571623\n",
      "Percent female:  52.20638153428377\n",
      "\n",
      "Jul :\n",
      "Percent male:    49.1441908713693\n",
      "Percent female:  50.8558091286307\n",
      "\n",
      "Aug :\n",
      "Percent male:    52.22127296027339\n",
      "Percent female:  47.77872703972661\n",
      "\n",
      "Sept :\n",
      "Percent male:    51.61290322580645\n",
      "Percent female:  48.38709677419355\n",
      "\n",
      "Oct :\n",
      "Percent male:    57.05765407554672\n",
      "Percent female:  42.94234592445328\n",
      "\n",
      "Nov :\n",
      "Percent male:    48.729792147806\n",
      "Percent female:  51.270207852194\n",
      "\n",
      "Dec :\n",
      "Percent male:    54.1371158392435\n",
      "Percent female:  45.8628841607565\n"
     ]
    }
   ],
   "source": [
    "from dateutil.parser import parse\n",
    "\n",
    "# Ignore all null genders\n",
    "mfDf = df[~df['gender'].isnull()]\n",
    "mPercent = 100*len(mfDf[mfDf['gender'] == 'Male'])/len(mfDf)\n",
    "fPercent = 100*len(mfDf[mfDf['gender'] == 'Female'])/len(mfDf)\n",
    "print('All Data:')\n",
    "print('Percent male:   ', mPercent)\n",
    "print('Percent female: ', fPercent)\n",
    "pd.options.mode.chained_assignment = None\n",
    "mfDf[\"class_date\"] = mfDf[\"class_date\"].apply(lambda x: parse(x))\n",
    "g = mfDf.groupby(pd.Grouper(key='class_date', freq='ME'))\n",
    "dfs = [group for _, group in g]\n",
    "# Don't feel like doing this the right way\n",
    "month = 1\n",
    "dfsByMonth = [0] * 12\n",
    "for frame in dfs:\n",
    "    if (month == 12):\n",
    "        month = 0\n",
    "    if (isinstance(dfsByMonth[month], int)):\n",
    "        dfsByMonth[month] = frame\n",
    "    else:\n",
    "        dfsByMonth[month] = pd.concat([dfsByMonth[month], frame])\n",
    "    month += 1\n",
    "\n",
    "months = ['Jan', 'Feb', 'Mar', 'Apr', 'May', 'Jun', 'Jul', 'Aug', 'Sept', 'Oct', 'Nov', 'Dec']\n",
    "for idx, monthDf in enumerate(dfsByMonth):\n",
    "    mPerc = 100*len(monthDf[monthDf['gender'] == 'Male'])/len(monthDf)\n",
    "    fPerc = 100*len(monthDf[monthDf['gender'] == 'Female'])/len(monthDf)\n",
    "    print('')\n",
    "    print(months[idx], ':')\n",
    "    print('Percent male:   ', mPerc)\n",
    "    print('Percent female: ', fPerc)"
   ]
  },
  {
   "cell_type": "markdown",
   "id": "76cc2d2b-abf4-40e7-af63-babc510d7386",
   "metadata": {},
   "source": [
    "I don't see an overall pattern, but there seem to be much more males in Oct and Dec"
   ]
  },
  {
   "cell_type": "markdown",
   "id": "277744ad-e34b-4ef0-af85-ad4fd40c54a9",
   "metadata": {},
   "source": [
    "## 2."
   ]
  },
  {
   "cell_type": "code",
   "execution_count": 5,
   "id": "2ae9bb72-5e80-4ea7-8b9d-fd6d4ee12cf3",
   "metadata": {},
   "outputs": [
    {
     "name": "stdout",
     "output_type": "stream",
     "text": [
      "Total    5957 days 11:27:20.739625344\n",
      "gender\n",
      "Female   5953 days 18:33:21.176470592\n",
      "Male     5961 days 01:22:32.931422464\n",
      "Name: age-days, dtype: timedelta64[ns]\n"
     ]
    }
   ],
   "source": [
    "# Ignore all null DOB\n",
    "mfDf = mfDf[~mfDf['dob'].isnull()]\n",
    "mfDf[\"dob\"] = mfDf[\"dob\"].apply(lambda x: parse(x))\n",
    "type(mfDf[\"dob\"][1])\n",
    "mfDf[\"age-days\"] = mfDf[\"class_date\"] - mfDf[\"dob\"]\n",
    "totalAvg = mfDf[\"age-days\"].mean()\n",
    "genderedMeans = mfDf.groupby('gender')[\"age-days\"].mean()\n",
    "print(\"Total   \", totalAvg)\n",
    "print(genderedMeans)"
   ]
  },
  {
   "cell_type": "markdown",
   "id": "1087f052-9cc4-42d7-a708-0da5678ec88d",
   "metadata": {},
   "source": [
    "One major assumption I made is that missing dob isn't due to the participant being younger or older than the average. I'm assuming the missing DOBs are uniformly random. I also chose to use days rather than years based on the assumption that all of the participants would be around 16 years old and years wouldn't show the difference."
   ]
  },
  {
   "cell_type": "markdown",
   "id": "eabb161e-28bc-4df2-b8d3-cdd31e168816",
   "metadata": {},
   "source": [
    "## 3."
   ]
  }
 ],
 "metadata": {
  "kernelspec": {
   "display_name": "Python 3 (ipykernel)",
   "language": "python",
   "name": "python3"
  },
  "language_info": {
   "codemirror_mode": {
    "name": "ipython",
    "version": 3
   },
   "file_extension": ".py",
   "mimetype": "text/x-python",
   "name": "python",
   "nbconvert_exporter": "python",
   "pygments_lexer": "ipython3",
   "version": "3.10.12"
  }
 },
 "nbformat": 4,
 "nbformat_minor": 5
}
