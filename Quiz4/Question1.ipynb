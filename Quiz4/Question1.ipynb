{
 "cells": [
  {
   "cell_type": "markdown",
   "id": "5cd52d54-fdf6-449f-848a-79a86f8b8cdb",
   "metadata": {},
   "source": [
    "## a)"
   ]
  },
  {
   "cell_type": "code",
   "execution_count": null,
   "id": "a736fba9-e2ce-44b5-90b5-b3b7468c2ee9",
   "metadata": {},
   "outputs": [],
   "source": [
    "import pandas as pd\n",
    "\n",
    "customer_data = pd.read_csv('./data/customer_data.csv')\n",
    "sales_data = pd.read_csv('./data/sales_data.csv')\n",
    "\n",
    "customer_data"
   ]
  },
  {
   "cell_type": "code",
   "execution_count": null,
   "id": "43b308ee-ab21-4bea-b364-8aee655b050a",
   "metadata": {},
   "outputs": [],
   "source": [
    "sales_data"
   ]
  },
  {
   "cell_type": "markdown",
   "id": "e6fa5e7a-3ee3-4123-a0f3-03c8daa3ad20",
   "metadata": {},
   "source": [
    "## b)\n",
    "\n",
    "### 1)"
   ]
  },
  {
   "cell_type": "code",
   "execution_count": null,
   "id": "84d25e8a-ad6c-499b-aced-312875841e4a",
   "metadata": {},
   "outputs": [],
   "source": [
    "print('Missing data in customer_data:')\n",
    "print(customer_data.isna().sum())\n",
    "\n",
    "print('\\nMissing data in sales_data:')\n",
    "print(sales_data.isna().sum())"
   ]
  },
  {
   "cell_type": "markdown",
   "id": "725c1ccc-98b0-47cb-9be5-bbffadc30675",
   "metadata": {},
   "source": [
    "### 2)"
   ]
  },
  {
   "cell_type": "code",
   "execution_count": null,
   "id": "896380e2-a55f-49cf-a127-1856c991f01b",
   "metadata": {},
   "outputs": [],
   "source": [
    "print('Number of product categories:')\n",
    "print(sales_data['category'].nunique())\n",
    "\n",
    "print('\\nNumber of products purchased by category:')\n",
    "print(sales_data.groupby('category')['quantity'].sum().sort_values(ascending=False))\n",
    "\n",
    "print('\\nClothing was the most popular category.')"
   ]
  },
  {
   "cell_type": "markdown",
   "id": "0a2708a4-9955-40e1-ab6c-22b7ade8217f",
   "metadata": {},
   "source": [
    "### 3)"
   ]
  },
  {
   "cell_type": "code",
   "execution_count": null,
   "id": "56a73ad7-6f32-4ece-8287-e795f75ffeb8",
   "metadata": {},
   "outputs": [],
   "source": [
    "merged = sales_data.merge(customer_data, on='customer_id', how='inner')\n",
    "\n",
    "f_sales = merged[merged['gender'] == 'Female']\n",
    "m_sales = merged[merged['gender'] == 'Male']\n",
    "\n",
    "print('Top three categories for women:')\n",
    "print(f_sales.groupby('category')['quantity'].sum().sort_values(ascending=False).head(3))\n",
    "\n",
    "print('\\nTop three categories for men:')\n",
    "print(m_sales.groupby('category')['quantity'].sum().sort_values(ascending=False).head(3))"
   ]
  },
  {
   "cell_type": "markdown",
   "id": "f1484ecb-d12e-4138-83d2-7c7821ccc551",
   "metadata": {},
   "source": [
    "### 4)"
   ]
  },
  {
   "cell_type": "code",
   "execution_count": null,
   "id": "fc79d4dd-6a0d-434e-90dc-da8cfc5f3dab",
   "metadata": {},
   "outputs": [],
   "source": [
    "print('Items purchased with each payment method:')\n",
    "print(merged.groupby('payment_method')['quantity'].sum().sort_values(ascending=False))\n",
    "\n",
    "print('\\nDollars spent with each payment method:')\n",
    "print(merged.groupby('payment_method')['price'].sum().sort_values(ascending=False))\n",
    "\n",
    "print('\\nCash is the most popular payment method')"
   ]
  },
  {
   "cell_type": "markdown",
   "id": "a81950b1-1729-470e-a2f2-5be1e96b8305",
   "metadata": {},
   "source": [
    "### 5)"
   ]
  },
  {
   "cell_type": "code",
   "execution_count": null,
   "id": "1d35977b-08a1-4832-94c6-13530b946989",
   "metadata": {},
   "outputs": [],
   "source": [
    "sales_data['invoice_date'] = pd.to_datetime(sales_data['invoice_date'], format='%d-%m-%Y')\n",
    "\n",
    "print(sales_data.groupby(sales_data['invoice_date'].dt.month)['quantity'].sum().sort_values(ascending=False))\n",
    "print('\\nJanuary has the highest number of sales')"
   ]
  },
  {
   "cell_type": "markdown",
   "id": "9d0c2bb4-2b73-408e-b926-aaea2b980d51",
   "metadata": {},
   "source": [
    "### 6)"
   ]
  },
  {
   "cell_type": "code",
   "execution_count": null,
   "id": "cd90573a-80ad-478d-a004-6d5c7dc6958e",
   "metadata": {},
   "outputs": [],
   "source": [
    "# Create new column indicating the next multiple of 500 after current price\n",
    "\n",
    "price_group = []\n",
    "for _, row in sales_data.iterrows():\n",
    "    price_group.append(int(int(row['price'])/500 + 1)*500)\n",
    "sales_data['price_group'] = price_group\n",
    "\n",
    "sales_bins = sales_data.groupby('price_group')"
   ]
  },
  {
   "cell_type": "markdown",
   "id": "e774b9e5-9951-4beb-ab55-996964443949",
   "metadata": {},
   "source": [
    "#### a)"
   ]
  },
  {
   "cell_type": "code",
   "execution_count": null,
   "id": "578841dd-6f57-4e1e-bdc3-e11f6133d701",
   "metadata": {},
   "outputs": [],
   "source": [
    "print('The highest sales group is:', sales_data['price_group'].max())\n",
    "print()\n",
    "print(sales_data[sales_data['price_group'] == sales_data['price_group'].max()])"
   ]
  },
  {
   "cell_type": "markdown",
   "id": "d773c30c-4ce4-47e3-9954-71d7e6f172d3",
   "metadata": {},
   "source": [
    "#### b)"
   ]
  },
  {
   "cell_type": "code",
   "execution_count": null,
   "id": "c605f942-8a1c-41f2-88f3-8597cc7e28d3",
   "metadata": {},
   "outputs": [],
   "source": [
    "print(sales_bins['quantity'].sum().sort_values(ascending=False))\n",
    "\n",
    "print('\\nThe group of items between 0 and 500 had the most purchases')"
   ]
  },
  {
   "cell_type": "markdown",
   "id": "23a63d3a-99b9-4242-b747-29f72c51f924",
   "metadata": {},
   "source": [
    "#### c)"
   ]
  },
  {
   "cell_type": "code",
   "execution_count": null,
   "id": "f2d27ad8-dbd2-4811-bc44-1c1edaaa299d",
   "metadata": {},
   "outputs": [],
   "source": [
    "january_sales = sales_data[sales_data['invoice_date'].dt.month == 1]\n",
    "\n",
    "print(sales_bins['quantity'].sum().sort_values(ascending=False))\n",
    "\n",
    "print('\\nPurchases between 0 and 500 dollars are still the most common')"
   ]
  }
 ],
 "metadata": {
  "kernelspec": {
   "display_name": "Python 3 (ipykernel)",
   "language": "python",
   "name": "python3"
  },
  "language_info": {
   "codemirror_mode": {
    "name": "ipython",
    "version": 3
   },
   "file_extension": ".py",
   "mimetype": "text/x-python",
   "name": "python",
   "nbconvert_exporter": "python",
   "pygments_lexer": "ipython3",
   "version": "3.10.12"
  }
 },
 "nbformat": 4,
 "nbformat_minor": 5
}
