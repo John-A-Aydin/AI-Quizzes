{
 "cells": [
  {
   "cell_type": "markdown",
   "id": "5cd52d54-fdf6-449f-848a-79a86f8b8cdb",
   "metadata": {},
   "source": [
    "## a)"
   ]
  },
  {
   "cell_type": "code",
   "execution_count": 6,
   "id": "a736fba9-e2ce-44b5-90b5-b3b7468c2ee9",
   "metadata": {},
   "outputs": [
    {
     "data": {
      "text/html": [
       "<div>\n",
       "<style scoped>\n",
       "    .dataframe tbody tr th:only-of-type {\n",
       "        vertical-align: middle;\n",
       "    }\n",
       "\n",
       "    .dataframe tbody tr th {\n",
       "        vertical-align: top;\n",
       "    }\n",
       "\n",
       "    .dataframe thead th {\n",
       "        text-align: right;\n",
       "    }\n",
       "</style>\n",
       "<table border=\"1\" class=\"dataframe\">\n",
       "  <thead>\n",
       "    <tr style=\"text-align: right;\">\n",
       "      <th></th>\n",
       "      <th>customer_id</th>\n",
       "      <th>gender</th>\n",
       "      <th>age</th>\n",
       "      <th>payment_method</th>\n",
       "    </tr>\n",
       "  </thead>\n",
       "  <tbody>\n",
       "    <tr>\n",
       "      <th>0</th>\n",
       "      <td>C241288</td>\n",
       "      <td>Female</td>\n",
       "      <td>28.0</td>\n",
       "      <td>Credit Card</td>\n",
       "    </tr>\n",
       "    <tr>\n",
       "      <th>1</th>\n",
       "      <td>C111565</td>\n",
       "      <td>Male</td>\n",
       "      <td>21.0</td>\n",
       "      <td>Debit Card</td>\n",
       "    </tr>\n",
       "    <tr>\n",
       "      <th>2</th>\n",
       "      <td>C266599</td>\n",
       "      <td>Male</td>\n",
       "      <td>20.0</td>\n",
       "      <td>Cash</td>\n",
       "    </tr>\n",
       "    <tr>\n",
       "      <th>3</th>\n",
       "      <td>C988172</td>\n",
       "      <td>Female</td>\n",
       "      <td>66.0</td>\n",
       "      <td>Credit Card</td>\n",
       "    </tr>\n",
       "    <tr>\n",
       "      <th>4</th>\n",
       "      <td>C189076</td>\n",
       "      <td>Female</td>\n",
       "      <td>53.0</td>\n",
       "      <td>Cash</td>\n",
       "    </tr>\n",
       "    <tr>\n",
       "      <th>...</th>\n",
       "      <td>...</td>\n",
       "      <td>...</td>\n",
       "      <td>...</td>\n",
       "      <td>...</td>\n",
       "    </tr>\n",
       "    <tr>\n",
       "      <th>99452</th>\n",
       "      <td>C441542</td>\n",
       "      <td>Female</td>\n",
       "      <td>45.0</td>\n",
       "      <td>Credit Card</td>\n",
       "    </tr>\n",
       "    <tr>\n",
       "      <th>99453</th>\n",
       "      <td>C569580</td>\n",
       "      <td>Male</td>\n",
       "      <td>27.0</td>\n",
       "      <td>Cash</td>\n",
       "    </tr>\n",
       "    <tr>\n",
       "      <th>99454</th>\n",
       "      <td>C103292</td>\n",
       "      <td>Male</td>\n",
       "      <td>63.0</td>\n",
       "      <td>Debit Card</td>\n",
       "    </tr>\n",
       "    <tr>\n",
       "      <th>99455</th>\n",
       "      <td>C800631</td>\n",
       "      <td>Male</td>\n",
       "      <td>56.0</td>\n",
       "      <td>Cash</td>\n",
       "    </tr>\n",
       "    <tr>\n",
       "      <th>99456</th>\n",
       "      <td>C273973</td>\n",
       "      <td>Female</td>\n",
       "      <td>36.0</td>\n",
       "      <td>Credit Card</td>\n",
       "    </tr>\n",
       "  </tbody>\n",
       "</table>\n",
       "<p>99457 rows × 4 columns</p>\n",
       "</div>"
      ],
      "text/plain": [
       "      customer_id  gender   age payment_method\n",
       "0         C241288  Female  28.0    Credit Card\n",
       "1         C111565    Male  21.0     Debit Card\n",
       "2         C266599    Male  20.0           Cash\n",
       "3         C988172  Female  66.0    Credit Card\n",
       "4         C189076  Female  53.0           Cash\n",
       "...           ...     ...   ...            ...\n",
       "99452     C441542  Female  45.0    Credit Card\n",
       "99453     C569580    Male  27.0           Cash\n",
       "99454     C103292    Male  63.0     Debit Card\n",
       "99455     C800631    Male  56.0           Cash\n",
       "99456     C273973  Female  36.0    Credit Card\n",
       "\n",
       "[99457 rows x 4 columns]"
      ]
     },
     "execution_count": 6,
     "metadata": {},
     "output_type": "execute_result"
    }
   ],
   "source": [
    "import pandas as pd\n",
    "\n",
    "customer_data = pd.read_csv('./data/customer_data.csv')\n",
    "sales_data = pd.read_csv('./data/sales_data.csv')\n",
    "\n",
    "customer_data"
   ]
  },
  {
   "cell_type": "code",
   "execution_count": 42,
   "id": "43b308ee-ab21-4bea-b364-8aee655b050a",
   "metadata": {},
   "outputs": [
    {
     "data": {
      "text/html": [
       "<div>\n",
       "<style scoped>\n",
       "    .dataframe tbody tr th:only-of-type {\n",
       "        vertical-align: middle;\n",
       "    }\n",
       "\n",
       "    .dataframe tbody tr th {\n",
       "        vertical-align: top;\n",
       "    }\n",
       "\n",
       "    .dataframe thead th {\n",
       "        text-align: right;\n",
       "    }\n",
       "</style>\n",
       "<table border=\"1\" class=\"dataframe\">\n",
       "  <thead>\n",
       "    <tr style=\"text-align: right;\">\n",
       "      <th></th>\n",
       "      <th>invoice_no</th>\n",
       "      <th>customer_id</th>\n",
       "      <th>category</th>\n",
       "      <th>quantity</th>\n",
       "      <th>price</th>\n",
       "      <th>invoice_date</th>\n",
       "      <th>shopping_mall</th>\n",
       "    </tr>\n",
       "  </thead>\n",
       "  <tbody>\n",
       "    <tr>\n",
       "      <th>0</th>\n",
       "      <td>I138884</td>\n",
       "      <td>C241288</td>\n",
       "      <td>Clothing</td>\n",
       "      <td>5</td>\n",
       "      <td>1500.40</td>\n",
       "      <td>05-08-2022</td>\n",
       "      <td>Kanyon</td>\n",
       "    </tr>\n",
       "    <tr>\n",
       "      <th>1</th>\n",
       "      <td>I317333</td>\n",
       "      <td>C111565</td>\n",
       "      <td>Shoes</td>\n",
       "      <td>3</td>\n",
       "      <td>1800.51</td>\n",
       "      <td>12-12-2021</td>\n",
       "      <td>Forum Istanbul</td>\n",
       "    </tr>\n",
       "    <tr>\n",
       "      <th>2</th>\n",
       "      <td>I127801</td>\n",
       "      <td>C266599</td>\n",
       "      <td>Clothing</td>\n",
       "      <td>1</td>\n",
       "      <td>300.08</td>\n",
       "      <td>09-11-2021</td>\n",
       "      <td>Metrocity</td>\n",
       "    </tr>\n",
       "    <tr>\n",
       "      <th>3</th>\n",
       "      <td>I173702</td>\n",
       "      <td>C988172</td>\n",
       "      <td>Shoes</td>\n",
       "      <td>5</td>\n",
       "      <td>3000.85</td>\n",
       "      <td>16-05-2021</td>\n",
       "      <td>Metropol AVM</td>\n",
       "    </tr>\n",
       "    <tr>\n",
       "      <th>4</th>\n",
       "      <td>I337046</td>\n",
       "      <td>C189076</td>\n",
       "      <td>Books</td>\n",
       "      <td>4</td>\n",
       "      <td>60.60</td>\n",
       "      <td>24-10-2021</td>\n",
       "      <td>Kanyon</td>\n",
       "    </tr>\n",
       "    <tr>\n",
       "      <th>...</th>\n",
       "      <td>...</td>\n",
       "      <td>...</td>\n",
       "      <td>...</td>\n",
       "      <td>...</td>\n",
       "      <td>...</td>\n",
       "      <td>...</td>\n",
       "      <td>...</td>\n",
       "    </tr>\n",
       "    <tr>\n",
       "      <th>99452</th>\n",
       "      <td>I219422</td>\n",
       "      <td>C441542</td>\n",
       "      <td>Souvenir</td>\n",
       "      <td>5</td>\n",
       "      <td>58.65</td>\n",
       "      <td>21-09-2022</td>\n",
       "      <td>Kanyon</td>\n",
       "    </tr>\n",
       "    <tr>\n",
       "      <th>99453</th>\n",
       "      <td>I325143</td>\n",
       "      <td>C569580</td>\n",
       "      <td>Food &amp; Beverage</td>\n",
       "      <td>2</td>\n",
       "      <td>10.46</td>\n",
       "      <td>22-09-2021</td>\n",
       "      <td>Forum Istanbul</td>\n",
       "    </tr>\n",
       "    <tr>\n",
       "      <th>99454</th>\n",
       "      <td>I824010</td>\n",
       "      <td>C103292</td>\n",
       "      <td>Food &amp; Beverage</td>\n",
       "      <td>2</td>\n",
       "      <td>10.46</td>\n",
       "      <td>28-03-2021</td>\n",
       "      <td>Metrocity</td>\n",
       "    </tr>\n",
       "    <tr>\n",
       "      <th>99455</th>\n",
       "      <td>I702964</td>\n",
       "      <td>C800631</td>\n",
       "      <td>Technology</td>\n",
       "      <td>4</td>\n",
       "      <td>4200.00</td>\n",
       "      <td>16-03-2021</td>\n",
       "      <td>Istinye Park</td>\n",
       "    </tr>\n",
       "    <tr>\n",
       "      <th>99456</th>\n",
       "      <td>I232867</td>\n",
       "      <td>C273973</td>\n",
       "      <td>Souvenir</td>\n",
       "      <td>3</td>\n",
       "      <td>35.19</td>\n",
       "      <td>15-10-2022</td>\n",
       "      <td>Mall of Istanbul</td>\n",
       "    </tr>\n",
       "  </tbody>\n",
       "</table>\n",
       "<p>99457 rows × 7 columns</p>\n",
       "</div>"
      ],
      "text/plain": [
       "      invoice_no customer_id         category  quantity    price invoice_date  \\\n",
       "0        I138884     C241288         Clothing         5  1500.40   05-08-2022   \n",
       "1        I317333     C111565            Shoes         3  1800.51   12-12-2021   \n",
       "2        I127801     C266599         Clothing         1   300.08   09-11-2021   \n",
       "3        I173702     C988172            Shoes         5  3000.85   16-05-2021   \n",
       "4        I337046     C189076            Books         4    60.60   24-10-2021   \n",
       "...          ...         ...              ...       ...      ...          ...   \n",
       "99452    I219422     C441542         Souvenir         5    58.65   21-09-2022   \n",
       "99453    I325143     C569580  Food & Beverage         2    10.46   22-09-2021   \n",
       "99454    I824010     C103292  Food & Beverage         2    10.46   28-03-2021   \n",
       "99455    I702964     C800631       Technology         4  4200.00   16-03-2021   \n",
       "99456    I232867     C273973         Souvenir         3    35.19   15-10-2022   \n",
       "\n",
       "          shopping_mall  \n",
       "0                Kanyon  \n",
       "1        Forum Istanbul  \n",
       "2             Metrocity  \n",
       "3          Metropol AVM  \n",
       "4                Kanyon  \n",
       "...                 ...  \n",
       "99452            Kanyon  \n",
       "99453    Forum Istanbul  \n",
       "99454         Metrocity  \n",
       "99455      Istinye Park  \n",
       "99456  Mall of Istanbul  \n",
       "\n",
       "[99457 rows x 7 columns]"
      ]
     },
     "execution_count": 42,
     "metadata": {},
     "output_type": "execute_result"
    }
   ],
   "source": [
    "sales_data"
   ]
  },
  {
   "cell_type": "markdown",
   "id": "e6fa5e7a-3ee3-4123-a0f3-03c8daa3ad20",
   "metadata": {},
   "source": [
    "## b)\n",
    "\n",
    "### 1)"
   ]
  },
  {
   "cell_type": "code",
   "execution_count": 11,
   "id": "84d25e8a-ad6c-499b-aced-312875841e4a",
   "metadata": {},
   "outputs": [
    {
     "name": "stdout",
     "output_type": "stream",
     "text": [
      "Missing data in customer_data:\n",
      "customer_id         0\n",
      "gender              0\n",
      "age               119\n",
      "payment_method      0\n",
      "dtype: int64\n",
      "\n",
      "Missing data in sales_data:\n",
      "invoice_no       0\n",
      "customer_id      0\n",
      "category         0\n",
      "quantity         0\n",
      "price            0\n",
      "invoice_date     0\n",
      "shopping_mall    0\n",
      "dtype: int64\n"
     ]
    }
   ],
   "source": [
    "print('Missing data in customer_data:')\n",
    "print(customer_data.isna().sum())\n",
    "\n",
    "print('\\nMissing data in sales_data:')\n",
    "print(sales_data.isna().sum())"
   ]
  },
  {
   "cell_type": "markdown",
   "id": "725c1ccc-98b0-47cb-9be5-bbffadc30675",
   "metadata": {},
   "source": [
    "### 2)"
   ]
  },
  {
   "cell_type": "code",
   "execution_count": 22,
   "id": "896380e2-a55f-49cf-a127-1856c991f01b",
   "metadata": {},
   "outputs": [
    {
     "name": "stdout",
     "output_type": "stream",
     "text": [
      "Number of product categories:\n",
      "8\n",
      "\n",
      "Number of products purchased by category:\n",
      "category\n",
      "Clothing           103558\n",
      "Cosmetics           45465\n",
      "Food & Beverage     44277\n",
      "Toys                30321\n",
      "Shoes               30217\n",
      "Technology          15021\n",
      "Books               14982\n",
      "Souvenir            14871\n",
      "Name: quantity, dtype: int64\n",
      "\n",
      "Clothing was the most popular category.\n"
     ]
    }
   ],
   "source": [
    "print('Number of product categories:')\n",
    "print(sales_data['category'].nunique())\n",
    "\n",
    "print('\\nNumber of products purchased by category:')\n",
    "print(sales_data.groupby('category')['quantity'].sum().sort_values(ascending=False))\n",
    "\n",
    "print('\\nClothing was the most popular category.')"
   ]
  },
  {
   "cell_type": "markdown",
   "id": "0a2708a4-9955-40e1-ab6c-22b7ade8217f",
   "metadata": {},
   "source": [
    "### 3)"
   ]
  },
  {
   "cell_type": "code",
   "execution_count": 39,
   "id": "56a73ad7-6f32-4ece-8287-e795f75ffeb8",
   "metadata": {},
   "outputs": [
    {
     "name": "stdout",
     "output_type": "stream",
     "text": [
      "Top three categories for women:\n",
      "category\n",
      "Clothing           62039\n",
      "Cosmetics          27261\n",
      "Food & Beverage    26362\n",
      "Name: quantity, dtype: int64\n",
      "\n",
      "Top three categories for men:\n",
      "category\n",
      "Clothing           41519\n",
      "Cosmetics          18204\n",
      "Food & Beverage    17915\n",
      "Name: quantity, dtype: int64\n"
     ]
    }
   ],
   "source": [
    "merged = sales_data.merge(customer_data, on='customer_id', how='inner')\n",
    "\n",
    "f_sales = merged[merged['gender'] == 'Female']\n",
    "m_sales = merged[merged['gender'] == 'Male']\n",
    "\n",
    "print('Top three categories for women:')\n",
    "print(f_sales.groupby('category')['quantity'].sum().sort_values(ascending=False).head(3))\n",
    "\n",
    "print('\\nTop three categories for men:')\n",
    "print(m_sales.groupby('category')['quantity'].sum().sort_values(ascending=False).head(3))"
   ]
  },
  {
   "cell_type": "markdown",
   "id": "f1484ecb-d12e-4138-83d2-7c7821ccc551",
   "metadata": {},
   "source": [
    "### 4)"
   ]
  },
  {
   "cell_type": "code",
   "execution_count": 46,
   "id": "fc79d4dd-6a0d-434e-90dc-da8cfc5f3dab",
   "metadata": {},
   "outputs": [
    {
     "name": "stdout",
     "output_type": "stream",
     "text": [
      "Items purchased with each payment method:\n",
      "payment_method\n",
      "Cash           133370\n",
      "Credit Card    105045\n",
      "Debit Card      60297\n",
      "Name: quantity, dtype: int64\n",
      "\n",
      "Dollars spent with each payment method:\n",
      "payment_method\n",
      "Cash           30705030.98\n",
      "Credit Card    24051476.93\n",
      "Debit Card     13794858.00\n",
      "Name: price, dtype: float64\n",
      "\n",
      "Cash is the most popular payment method\n"
     ]
    }
   ],
   "source": [
    "print('Items purchased with each payment method:')\n",
    "print(merged.groupby('payment_method')['quantity'].sum().sort_values(ascending=False))\n",
    "\n",
    "print('\\nDollars spent with each payment method:')\n",
    "print(merged.groupby('payment_method')['price'].sum().sort_values(ascending=False))\n",
    "\n",
    "print('\\nCash is the most popular payment method')"
   ]
  },
  {
   "cell_type": "markdown",
   "id": "a81950b1-1729-470e-a2f2-5be1e96b8305",
   "metadata": {},
   "source": [
    "### 5)"
   ]
  },
  {
   "cell_type": "code",
   "execution_count": 68,
   "id": "1d35977b-08a1-4832-94c6-13530b946989",
   "metadata": {},
   "outputs": [
    {
     "name": "stdout",
     "output_type": "stream",
     "text": [
      "invoice_date\n",
      "1     34763\n",
      "2     31343\n",
      "3     26224\n",
      "7     23699\n",
      "10    23477\n",
      "5     23217\n",
      "12    23152\n",
      "8     22921\n",
      "6     22674\n",
      "11    22586\n",
      "4     22558\n",
      "9     22098\n",
      "Name: quantity, dtype: int64\n",
      "\n",
      "January has the highest number of sales\n"
     ]
    }
   ],
   "source": [
    "sales_data['invoice_date'] = pd.to_datetime(sales_data['invoice_date'], format='%d-%m-%Y')\n",
    "\n",
    "print(sales_data.groupby(sales_data['invoice_date'].dt.month)['quantity'].sum().sort_values(ascending=False))\n",
    "print('\\nJanuary has the highest number of sales')"
   ]
  },
  {
   "cell_type": "markdown",
   "id": "9d0c2bb4-2b73-408e-b926-aaea2b980d51",
   "metadata": {},
   "source": [
    "### 6)"
   ]
  },
  {
   "cell_type": "code",
   "execution_count": 78,
   "id": "cd90573a-80ad-478d-a004-6d5c7dc6958e",
   "metadata": {},
   "outputs": [],
   "source": [
    "# Create new column indicating the next multiple of 500 after current price\n",
    "\n",
    "price_group = []\n",
    "for _, row in sales_data.iterrows():\n",
    "    price_group.append(int(int(row['price'])/500 + 1)*500)\n",
    "sales_data['price_group'] = price_group\n",
    "\n",
    "sales_bins = sales_data.groupby('price_group')"
   ]
  },
  {
   "cell_type": "markdown",
   "id": "e774b9e5-9951-4beb-ab55-996964443949",
   "metadata": {},
   "source": [
    "#### a)"
   ]
  },
  {
   "cell_type": "code",
   "execution_count": 85,
   "id": "578841dd-6f57-4e1e-bdc3-e11f6133d701",
   "metadata": {},
   "outputs": [
    {
     "name": "stdout",
     "output_type": "stream",
     "text": [
      "The highest sales group is: 5500\n",
      "\n",
      "             invoice_no customer_id    category  quantity   price  \\\n",
      "invoice_date                                                        \n",
      "2021-10-26      I252275     C313348  Technology         5  5250.0   \n",
      "2021-11-19      I883721     C236859  Technology         5  5250.0   \n",
      "2022-01-03      I194017     C462011  Technology         5  5250.0   \n",
      "2022-10-04      I252528     C333065  Technology         5  5250.0   \n",
      "2021-04-21      I311849     C178487  Technology         5  5250.0   \n",
      "...                 ...         ...         ...       ...     ...   \n",
      "2022-09-08      I236291     C724141  Technology         5  5250.0   \n",
      "2023-01-24      I285991     C894009  Technology         5  5250.0   \n",
      "2021-06-26      I282417     C247846  Technology         5  5250.0   \n",
      "2022-02-05      I223483     C877031  Technology         5  5250.0   \n",
      "2022-03-10      I378781     C324387  Technology         5  5250.0   \n",
      "\n",
      "             invoice_date     shopping_mall  price_group  \n",
      "invoice_date                                              \n",
      "2021-10-26     2021-10-26            Kanyon         5500  \n",
      "2021-11-19     2021-11-19  Mall of Istanbul         5500  \n",
      "2022-01-03     2022-01-03            Kanyon         5500  \n",
      "2022-10-04     2022-10-04       Cevahir AVM         5500  \n",
      "2021-04-21     2021-04-21       Cevahir AVM         5500  \n",
      "...                   ...               ...          ...  \n",
      "2022-09-08     2022-09-08            Kanyon         5500  \n",
      "2023-01-24     2023-01-24    Forum Istanbul         5500  \n",
      "2021-06-26     2021-06-26  Mall of Istanbul         5500  \n",
      "2022-02-05     2022-02-05            Kanyon         5500  \n",
      "2022-03-10     2022-03-10  Mall of Istanbul         5500  \n",
      "\n",
      "[1001 rows x 8 columns]\n"
     ]
    }
   ],
   "source": [
    "print('The highest sales group is:', sales_data['price_group'].max())\n",
    "print()\n",
    "print(sales_data[sales_data['price_group'] == sales_data['price_group'].max()])"
   ]
  },
  {
   "cell_type": "markdown",
   "id": "d773c30c-4ce4-47e3-9954-71d7e6f172d3",
   "metadata": {},
   "source": [
    "#### b)"
   ]
  },
  {
   "cell_type": "code",
   "execution_count": 89,
   "id": "c605f942-8a1c-41f2-88f3-8597cc7e28d3",
   "metadata": {},
   "outputs": [
    {
     "name": "stdout",
     "output_type": "stream",
     "text": [
      "price_group\n",
      "500     156757\n",
      "2000     40730\n",
      "1000     36565\n",
      "1500     32471\n",
      "3500     13092\n",
      "2500     10088\n",
      "5500      5005\n",
      "4500      4004\n",
      "Name: quantity, dtype: int64\n",
      "\n",
      "The group of items between 0 and 500 had the most purchases\n"
     ]
    }
   ],
   "source": [
    "print(sales_bins['quantity'].sum().sort_values(ascending=False))\n",
    "\n",
    "print('\\nThe group of items between 0 and 500 had the most purchases')"
   ]
  },
  {
   "cell_type": "markdown",
   "id": "23a63d3a-99b9-4242-b747-29f72c51f924",
   "metadata": {},
   "source": [
    "#### c)"
   ]
  },
  {
   "cell_type": "code",
   "execution_count": 96,
   "id": "f2d27ad8-dbd2-4811-bc44-1c1edaaa299d",
   "metadata": {},
   "outputs": [
    {
     "name": "stdout",
     "output_type": "stream",
     "text": [
      "price_group\n",
      "500     18431\n",
      "2000     4671\n",
      "1000     4190\n",
      "1500     3839\n",
      "3500     1323\n",
      "2500     1236\n",
      "5500      585\n",
      "4500      488\n",
      "Name: quantity, dtype: int64\n",
      "\n",
      "Purchases between 0 and 500 dollars are still the most common\n"
     ]
    }
   ],
   "source": [
    "january_sales = sales_data[sales_data['invoice_date'].dt.month == 1]\n",
    "\n",
    "print(sales_bins['quantity'].sum().sort_values(ascending=False))\n",
    "\n",
    "print('\\nPurchases between 0 and 500 dollars are still the most common')"
   ]
  }
 ],
 "metadata": {
  "kernelspec": {
   "display_name": "Python 3 (ipykernel)",
   "language": "python",
   "name": "python3"
  },
  "language_info": {
   "codemirror_mode": {
    "name": "ipython",
    "version": 3
   },
   "file_extension": ".py",
   "mimetype": "text/x-python",
   "name": "python",
   "nbconvert_exporter": "python",
   "pygments_lexer": "ipython3",
   "version": "3.10.12"
  }
 },
 "nbformat": 4,
 "nbformat_minor": 5
}
