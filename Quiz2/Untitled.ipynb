{
 "cells": [
  {
   "cell_type": "code",
   "execution_count": 4,
   "id": "cf2da737-0871-4ad0-b842-f44902ab1f33",
   "metadata": {},
   "outputs": [
    {
     "ename": "RecursionError",
     "evalue": "maximum recursion depth exceeded in comparison",
     "output_type": "error",
     "traceback": [
      "\u001b[0;31m---------------------------------------------------------------------------\u001b[0m",
      "\u001b[0;31mRecursionError\u001b[0m                            Traceback (most recent call last)",
      "Cell \u001b[0;32mIn[4], line 39\u001b[0m\n\u001b[1;32m     37\u001b[0m                 \u001b[38;5;28;01mreturn\u001b[39;00m \u001b[38;5;28;01mTrue\u001b[39;00m\n\u001b[1;32m     38\u001b[0m             movesTaken\u001b[38;5;241m.\u001b[39mpop()\n\u001b[0;32m---> 39\u001b[0m \u001b[43mdfs\u001b[49m\u001b[43m(\u001b[49m\u001b[43mstartState\u001b[49m\u001b[43m)\u001b[49m\n\u001b[1;32m     40\u001b[0m endTime \u001b[38;5;241m=\u001b[39m time\u001b[38;5;241m.\u001b[39mtime()\n\u001b[1;32m     41\u001b[0m \u001b[38;5;28mprint\u001b[39m(endTime \u001b[38;5;241m-\u001b[39m startTime, \u001b[38;5;124m\"\u001b[39m\u001b[38;5;124mseconds\u001b[39m\u001b[38;5;124m\"\u001b[39m)\n",
      "Cell \u001b[0;32mIn[4], line 35\u001b[0m, in \u001b[0;36mdfs\u001b[0;34m(state)\u001b[0m\n\u001b[1;32m     33\u001b[0m \u001b[38;5;28;01mfor\u001b[39;00m idx \u001b[38;5;129;01min\u001b[39;00m \u001b[38;5;28mrange\u001b[39m(\u001b[38;5;28mlen\u001b[39m(newState)):\n\u001b[1;32m     34\u001b[0m     newState[idx] \u001b[38;5;241m+\u001b[39m\u001b[38;5;241m=\u001b[39m move[idx]\n\u001b[0;32m---> 35\u001b[0m found \u001b[38;5;241m=\u001b[39m \u001b[43mdfs\u001b[49m\u001b[43m(\u001b[49m\u001b[43mnewState\u001b[49m\u001b[43m)\u001b[49m\n\u001b[1;32m     36\u001b[0m \u001b[38;5;28;01mif\u001b[39;00m found:\n\u001b[1;32m     37\u001b[0m     \u001b[38;5;28;01mreturn\u001b[39;00m \u001b[38;5;28;01mTrue\u001b[39;00m\n",
      "Cell \u001b[0;32mIn[4], line 35\u001b[0m, in \u001b[0;36mdfs\u001b[0;34m(state)\u001b[0m\n\u001b[1;32m     33\u001b[0m \u001b[38;5;28;01mfor\u001b[39;00m idx \u001b[38;5;129;01min\u001b[39;00m \u001b[38;5;28mrange\u001b[39m(\u001b[38;5;28mlen\u001b[39m(newState)):\n\u001b[1;32m     34\u001b[0m     newState[idx] \u001b[38;5;241m+\u001b[39m\u001b[38;5;241m=\u001b[39m move[idx]\n\u001b[0;32m---> 35\u001b[0m found \u001b[38;5;241m=\u001b[39m \u001b[43mdfs\u001b[49m\u001b[43m(\u001b[49m\u001b[43mnewState\u001b[49m\u001b[43m)\u001b[49m\n\u001b[1;32m     36\u001b[0m \u001b[38;5;28;01mif\u001b[39;00m found:\n\u001b[1;32m     37\u001b[0m     \u001b[38;5;28;01mreturn\u001b[39;00m \u001b[38;5;28;01mTrue\u001b[39;00m\n",
      "    \u001b[0;31m[... skipping similar frames: dfs at line 35 (2967 times)]\u001b[0m\n",
      "Cell \u001b[0;32mIn[4], line 35\u001b[0m, in \u001b[0;36mdfs\u001b[0;34m(state)\u001b[0m\n\u001b[1;32m     33\u001b[0m \u001b[38;5;28;01mfor\u001b[39;00m idx \u001b[38;5;129;01min\u001b[39;00m \u001b[38;5;28mrange\u001b[39m(\u001b[38;5;28mlen\u001b[39m(newState)):\n\u001b[1;32m     34\u001b[0m     newState[idx] \u001b[38;5;241m+\u001b[39m\u001b[38;5;241m=\u001b[39m move[idx]\n\u001b[0;32m---> 35\u001b[0m found \u001b[38;5;241m=\u001b[39m \u001b[43mdfs\u001b[49m\u001b[43m(\u001b[49m\u001b[43mnewState\u001b[49m\u001b[43m)\u001b[49m\n\u001b[1;32m     36\u001b[0m \u001b[38;5;28;01mif\u001b[39;00m found:\n\u001b[1;32m     37\u001b[0m     \u001b[38;5;28;01mreturn\u001b[39;00m \u001b[38;5;28;01mTrue\u001b[39;00m\n",
      "Cell \u001b[0;32mIn[4], line 27\u001b[0m, in \u001b[0;36mdfs\u001b[0;34m(state)\u001b[0m\n\u001b[1;32m     26\u001b[0m \u001b[38;5;28;01mdef\u001b[39;00m \u001b[38;5;21mdfs\u001b[39m(state):\n\u001b[0;32m---> 27\u001b[0m     \u001b[38;5;28;01mif\u001b[39;00m \u001b[43mstate\u001b[49m\u001b[43m \u001b[49m\u001b[38;5;241;43m==\u001b[39;49m\u001b[43m \u001b[49m\u001b[43mgoalState\u001b[49m:\n\u001b[1;32m     28\u001b[0m         \u001b[38;5;28;01mreturn\u001b[39;00m \u001b[38;5;28;01mTrue\u001b[39;00m\n\u001b[1;32m     29\u001b[0m     \u001b[38;5;28;01mfor\u001b[39;00m move \u001b[38;5;129;01min\u001b[39;00m legalMoves:\n",
      "\u001b[0;31mRecursionError\u001b[0m: maximum recursion depth exceeded in comparison"
     ]
    }
   ],
   "source": [
    "import time\n",
    "\n",
    "# Represent each side of river\n",
    "# Goal state:\n",
    "# stateLeft = [0, 0, 0]\n",
    "# stateRight = [3, 3, 1]\n",
    "startState = [3, 3, 1, 0, 0, 0]\n",
    "goalState = [0, 0, 0, 3, 3, 1]\n",
    "legalMoves = [[-1, 0, -1, 1, 0, 1],\n",
    "              [0, -1, -1, 0, 1, 1],\n",
    "              [-1, -1, -1, 1, 1, 1],\n",
    "              [-2, 0, -1, 2, 0, 1],\n",
    "              [0, 2, -1, 0, 2, 1],\n",
    "              [1, 0, 1, -1, 0, -1],\n",
    "              [0, 1, 1, 0, -1, -1],\n",
    "              [1, 1, 1, -1, -1, -1],\n",
    "              [2, 0, 1, -2, 0, -1],\n",
    "              [0, 2, 1, 0, -2, -1]]\n",
    "startTime = time.time()\n",
    "movesTaken = []\n",
    "def checkMoveLegality(state, move):\n",
    "    for idx in range(len(state)):\n",
    "        if state[idx] + move[idx] < 0:\n",
    "            return False\n",
    "    return True\n",
    "def dfs(state):\n",
    "    if state == goalState:\n",
    "        return True\n",
    "    for move in legalMoves:\n",
    "        newState = state.copy()\n",
    "        if checkMoveLegality(newState, move):\n",
    "            movesTaken.append(move)\n",
    "            for idx in range(len(newState)):\n",
    "                newState[idx] += move[idx]\n",
    "            found = dfs(newState)\n",
    "            if found:\n",
    "                return True\n",
    "            movesTaken.pop()\n",
    "dfs(startState)\n",
    "endTime = time.time()\n",
    "print(endTime - startTime, \"seconds\")"
   ]
  }
 ],
 "metadata": {
  "kernelspec": {
   "display_name": "Python 3 (ipykernel)",
   "language": "python",
   "name": "python3"
  },
  "language_info": {
   "codemirror_mode": {
    "name": "ipython",
    "version": 3
   },
   "file_extension": ".py",
   "mimetype": "text/x-python",
   "name": "python",
   "nbconvert_exporter": "python",
   "pygments_lexer": "ipython3",
   "version": "3.10.12"
  }
 },
 "nbformat": 4,
 "nbformat_minor": 5
}
