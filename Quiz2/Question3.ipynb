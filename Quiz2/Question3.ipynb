{
 "cells": [
  {
   "cell_type": "code",
   "execution_count": 5,
   "id": "e307c55f-3d0a-4860-8670-4c481390cd69",
   "metadata": {},
   "outputs": [
    {
     "data": {
      "text/plain": [
       "2"
      ]
     },
     "execution_count": 5,
     "metadata": {},
     "output_type": "execute_result"
    }
   ],
   "source": [
    "domain = [0, 1, 2, 3, 4, 5, 6, 7, 8, 9]\n",
    "# Order: T W O F U R\n",
    "D = [domain]*6\n",
    "# Manually solve node consistency\n",
    "D[3] = [1]\n",
    "D[0] = [5, 6, 7, 8, 9]\n",
    "# Defining  constraints\n",
    "# Digonals:\n",
    "def CDi(x, y):\n",
    "    return True\n",
    "# Default:\n",
    "def CDe(x, y):\n",
    "    return x != y\n",
    "# C00: diagonal\n",
    "# C01: default\n",
    "def C02(T, O):\n",
    "    return (T != O) and (O == (2*T)%10 or O == (2*T)%10 + 1)\n",
    "# C03: default\n",
    "# C04: default\n",
    "# C05: default\n",
    "# C10: default\n",
    "# C11: diagonal\n",
    "def C12(W, O):\n",
    "    return (O != W) and ((O%2 == 1) and (2*W)/10 >= 1)\n",
    "# C13: default\n",
    "def C14(W, U):\n",
    "    return (W != 0) and (U == (2*W)%10 or U == (2*W)%10 + 1)\n",
    "# C15: default\n",
    "def C20(O, T):\n",
    "    return (T != 0) and (O == (2*T)%10 or O == (2*T)%10 + 1)\n",
    "def C21(O, W):\n",
    "    return (O != W) and ((O%2 == 1) and (2*W)/10 >= 1)\n",
    "# C22: diagonal\n",
    "# C23: default\n",
    "def C24(O, U):\n",
    "    return (O != U) and ((U%2 == 1) and (2*O)/10 >= 1)\n",
    "def C25(O, R):\n",
    "    return (O != R) and (R == (2*O)%10)\n",
    "# C30: default\n",
    "# C31: default\n",
    "# C32: default\n",
    "# C33: diagonal\n",
    "# C34: default\n",
    "# C35: default\n",
    "# C40: default\n",
    "def C41(U, W):\n",
    "    return (W != 0) and (U == (2*W)%10 or U == (2*W)%10 + 1)\n",
    "def C42(U, O):\n",
    "    return (O != U) and ((U%2 == 1) and (2*O)/10 >= 1)\n",
    "# C43: default\n",
    "# C44: diagonal\n",
    "# C45: default\n",
    "def C52(R, O):\n",
    "    return (O != R) and (R == (2*O)%10)\n",
    "# rest are defaults or diagonals\n",
    "\n",
    "# Consistency matrix\n",
    "C = [[CDi, CDe, C02, CDe, CDe, CDe],\n",
    "     [CDe, CDi, C12, CDe, C14, CDe],\n",
    "     [C20, C21, CDi, CDe, C24, C25],\n",
    "     [CDe, CDe, CDe, CDi, CDe, CDe],\n",
    "     [CDe, C41, C42, CDe, CDi, CDe].\n",
    "     [CDe, CDe, C52, CDe, CDe, CDi]]\n"
   ]
  }
 ],
 "metadata": {
  "kernelspec": {
   "display_name": "Python 3 (ipykernel)",
   "language": "python",
   "name": "python3"
  },
  "language_info": {
   "codemirror_mode": {
    "name": "ipython",
    "version": 3
   },
   "file_extension": ".py",
   "mimetype": "text/x-python",
   "name": "python",
   "nbconvert_exporter": "python",
   "pygments_lexer": "ipython3",
   "version": "3.10.0"
  }
 },
 "nbformat": 4,
 "nbformat_minor": 5
}
